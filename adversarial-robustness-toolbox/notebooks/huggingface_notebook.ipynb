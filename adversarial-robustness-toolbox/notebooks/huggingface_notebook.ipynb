{
 "cells": [
  {
   "cell_type": "markdown",
   "id": "8093e27a-33f6-4cd9-a47b-ea94c3d0c514",
   "metadata": {},
   "source": [
    "\n",
    "<h1><center>Huggingface with ART</center></h1>\n",
    "\n",
    "\n",
    "In this notebook we will go over how to use the Huggingface API with ART. This can enable us to train robust foundation models which act over images. \n",
    "\n",
    "Currently this is a developing feature, and so not all ART tools are supported. Further tools and development is planned. As of ART 1.16 we support: \n",
    "+ Using a Pytorch backend.\n",
    "+ Evasion attacks and defences on classical classification tasks such as image classification, but not tasks such as object detection.\n",
    "\n",
    "If you have a use case that is not supported (or find a bug in this new feature!) please raise an issiue on ART.\n",
    "\n",
    "In addition to the core ART dependancies you will need to install Pytorch and the Transformers library:\n",
    "\n",
    "`pip install transformers`\n",
    "\n",
    "`pip3 install torch torchvision`\n",
    "\n",
    "This notebook was tested with the transformers library version 4.30.2, and torch==2.1.0/torchvision==0.16.0\n",
    "\n",
    "Let's look at how we can use ART to secure Huggingface models!\n"
   ]
  },
  {
   "cell_type": "code",
   "execution_count": 1,
   "id": "549129e5-f6f4-4995-b334-d22cb4cae76e",
   "metadata": {},
   "outputs": [],
   "source": [
    "# Relevant imports for the notebook\n",
    "\n",
    "import transformers\n",
    "import torch\n",
    "from torch.optim import Adam\n",
    "import matplotlib.pyplot as plt\n",
    "\n",
    "import numpy as np\n",
    "from torchvision import datasets\n",
    "from art.estimators.classification.hugging_face import HuggingFaceClassifierPyTorch\n",
    "\n",
    "device = torch.device('cuda' if torch.cuda.is_available() else 'cpu')"
   ]
  },
  {
   "cell_type": "code",
   "execution_count": 2,
   "id": "0adf2bba-efc1-4db7-8041-698105537b08",
   "metadata": {},
   "outputs": [],
   "source": [
    "# We will use CIFAR data for the notebook.\n",
    "def get_cifar_data(fetch_subset=False):\n",
    "    \"\"\"\n",
    "    Get CIFAR-10 data.\n",
    "    :return: cifar train/test data.\n",
    "    \"\"\"\n",
    "    train_set = datasets.CIFAR10('./data', train=True, download=True)\n",
    "    test_set = datasets.CIFAR10('./data', train=False, download=True)\n",
    "\n",
    "    x_train = train_set.data.astype(np.float32)\n",
    "    y_train = np.asarray(train_set.targets)\n",
    "\n",
    "    x_test = test_set.data.astype(np.float32)\n",
    "    y_test = np.asarray(test_set.targets)\n",
    "\n",
    "    x_train = np.moveaxis(x_train, [3], [1])\n",
    "    x_test = np.moveaxis(x_test, [3], [1])\n",
    "\n",
    "    x_train = x_train / 255.0\n",
    "    x_test = x_test / 255.0\n",
    "    \n",
    "    if fetch_subset:  \n",
    "        return (x_train[0:2500], y_train[0:2500]), (x_test[0:2500], y_test[0:2500])\n",
    "    \n",
    "    return (x_train, y_train), (x_test, y_test)"
   ]
  },
  {
   "cell_type": "markdown",
   "id": "f7b5ebcb",
   "metadata": {},
   "source": [
    "# Regular Training with ART\n",
    "\n",
    "We will first see how to load a model into ART's HuggingFaceClassifierPyTorch, train it, and attack it with PGD."
   ]
  },
  {
   "cell_type": "code",
   "execution_count": 3,
   "id": "5f797586-480b-432e-8b55-26a4ac2360f5",
   "metadata": {},
   "outputs": [],
   "source": [
    "def train_base_model(architecture='google/vit-base-patch16-224', train_on_subset=False):\n",
    "    \"\"\"\n",
    "    Train a cifar classifier\n",
    "    \"\"\"\n",
    "\n",
    "    (x_train, y_train), (x_test, y_test) = get_cifar_data(train_on_subset)\n",
    "\n",
    "    # Here we load a Huggingface model using the transformers library.\n",
    "    model = transformers.AutoModelForImageClassification.from_pretrained(architecture,\n",
    "                                                                         ignore_mismatched_sizes=True,\n",
    "                                                                         num_labels=10)\n",
    "    model = model.to(device)\n",
    "    # The HuggingFaceClassifierPyTorch follows broadly the same API as the PyTorchClassifier\n",
    "    # So we can supply the loss function, the input shape of the data we will supply, the optimizer, etc.\n",
    "    # Note, frequently we will be performing fine-tuning or transfer learning with vision transformners and \n",
    "    # so we may be fine-tuning on differently sized inputs. \n",
    "    # The input_shape argument refers to the shape of the supplied input data which may be different to \n",
    "    # the shape required by the model. \n",
    "    # To handle this HuggingFaceClassifierPyTorch has an extra argument of processor which will act on \n",
    "    # every batch to process the data into the correct form required by the supplied model.\n",
    "    # This needs to be manually specified by the user. For many attacks and defences to work it needs to be a \n",
    "    # differentiable funciton. \n",
    "    # Here the processor is a simple upsampler to enlarge the cifar images into the right size.\n",
    "    upsampler = torch.nn.Upsample(scale_factor=7, mode='nearest')\n",
    "\n",
    "    optimizer = Adam(model.parameters(), lr=1e-4)\n",
    "\n",
    "    hf_model = HuggingFaceClassifierPyTorch(model, \n",
    "                                            loss=torch.nn.CrossEntropyLoss(),\n",
    "                                            optimizer=optimizer,\n",
    "                                            input_shape=(3, 32, 32),\n",
    "                                            nb_classes=10,\n",
    "                                            clip_values=(0, 1),\n",
    "                                            processor=upsampler)\n",
    "    hf_model.fit(x_train, y_train, nb_epochs=2, verbose=True)\n",
    "    return hf_model"
   ]
  },
  {
   "cell_type": "code",
   "execution_count": 4,
   "id": "01f68d34-e777-48b4-bdca-7c52a63e6e50",
   "metadata": {},
   "outputs": [
    {
     "name": "stdout",
     "output_type": "stream",
     "text": [
      "Files already downloaded and verified\n",
      "Files already downloaded and verified\n"
     ]
    },
    {
     "name": "stderr",
     "output_type": "stream",
     "text": [
      "Some weights of ViTForImageClassification were not initialized from the model checkpoint at google/vit-base-patch16-224 and are newly initialized because the shapes did not match:\n",
      "- classifier.bias: found shape torch.Size([1000]) in the checkpoint and torch.Size([10]) in the model instantiated\n",
      "- classifier.weight: found shape torch.Size([1000, 768]) in the checkpoint and torch.Size([10, 768]) in the model instantiated\n",
      "You should probably TRAIN this model on a down-stream task to be able to use it for predictions and inference.\n"
     ]
    },
    {
     "data": {
      "application/vnd.jupyter.widget-view+json": {
       "model_id": "7794a0d05b504c48a8d70d1c0596e3a1",
       "version_major": 2,
       "version_minor": 0
      },
      "text/plain": [
       "Epochs:   0%|          | 0/2 [00:00<?, ?it/s]"
      ]
     },
     "metadata": {},
     "output_type": "display_data"
    },
    {
     "data": {
      "application/vnd.jupyter.widget-view+json": {
       "model_id": "6359e5dae373437fa05b7eccc69dd287",
       "version_major": 2,
       "version_minor": 0
      },
      "text/plain": [
       "Batches:   0%|          | 0/391 [00:00<?, ?it/s]"
      ]
     },
     "metadata": {},
     "output_type": "display_data"
    },
    {
     "data": {
      "application/vnd.jupyter.widget-view+json": {
       "model_id": "d7ccf915464140ff8e39430489a4ee77",
       "version_major": 2,
       "version_minor": 0
      },
      "text/plain": [
       "Batches:   0%|          | 0/391 [00:00<?, ?it/s]"
      ]
     },
     "metadata": {},
     "output_type": "display_data"
    }
   ],
   "source": [
    "# Change to train_on_subset=True and use for architecture='WinKawaks/vit-tiny-patch16-224' quicker results.\n",
    "# The model will have lower performance than the pre-ran notebook, but it \n",
    "# will run the notbook much faster.\n",
    "\n",
    "model_to_examine='google/vit-base-patch16-224'\n",
    "train_on_subset=False\n",
    "\n",
    "# Estimated run time: approx. 10 min on a laptop CPU\n",
    "# model_to_examine='WinKawaks/vit-tiny-patch16-224'\n",
    "# train_on_subset=True\n",
    "\n",
    "hf_base_model = train_base_model(architecture=model_to_examine, train_on_subset=train_on_subset)\n",
    "torch.save(hf_base_model.model.state_dict(), 'hf_base_model.pt')\n",
    "del hf_base_model # Clear models we no longer need."
   ]
  },
  {
   "cell_type": "code",
   "execution_count": 5,
   "id": "1a370096-d145-42cf-a59e-c553d81b0967",
   "metadata": {},
   "outputs": [],
   "source": [
    "def test_pgd(architecture, model_to_test='hf_base_model.pt'):\n",
    "    \"\"\"\n",
    "    Here we can test the model we trained against a PGD attack.\n",
    "    \"\"\"\n",
    "    \n",
    "    import os\n",
    "    from art.attacks.evasion import ProjectedGradientDescentPyTorch\n",
    "    (x_train, y_train), (x_test, y_test) = get_cifar_data()\n",
    "    model = transformers.AutoModelForImageClassification.from_pretrained(architecture,\n",
    "                                                                         ignore_mismatched_sizes=True,\n",
    "                                                                         num_labels=10)\n",
    "    \n",
    "    # Load the model state dict from the training loop we just performed.\n",
    "    model.load_state_dict(torch.load(model_to_test, map_location=torch.device(device)))\n",
    "    optimizer = Adam(model.parameters(), lr=1e-4)\n",
    "\n",
    "    # Set it up as a HuggingFaceClassifierPyTorch\n",
    "    hf_model = HuggingFaceClassifierPyTorch(model, \n",
    "                                            loss=torch.nn.CrossEntropyLoss(),\n",
    "                                            optimizer=optimizer,\n",
    "                                            input_shape=(3, 32, 32),\n",
    "                                            nb_classes=10,\n",
    "                                            clip_values=(0, 1),\n",
    "                                            processor=torch.nn.Upsample(scale_factor=7, mode='nearest'))\n",
    "\n",
    "    # Let's just use 100 samples for quick demo purposes\n",
    "    num_samples = 100\n",
    "    outputs = hf_model.predict(x_test[:num_samples])\n",
    "    acc = np.sum(np.argmax(outputs, axis=1) == y_test[:num_samples]) / len(y_test[:num_samples])\n",
    "    print('clean acc ', acc)\n",
    "\n",
    "    # The backend of the HuggingFaceClassifierPyTorch is the existing PyTorchClassifier. \n",
    "    # Thus we can interface HuggingFaceClassifierPyTorch with  aleadry existing attacks in ART which support pytorch.\n",
    "    # Here we use ProjectedGradientDescentPyTorch.\n",
    "    attacker = ProjectedGradientDescentPyTorch(hf_model, eps=8/255, eps_step=1/255)\n",
    "    x_test_adv_robust = attacker.generate(x_test[:num_samples])\n",
    "    outputs = hf_model.predict(x_test_adv_robust)\n",
    "    acc = np.sum(np.argmax(outputs, axis=1) == y_test[:num_samples]) / len(y_test[:num_samples])\n",
    "    print('adv acc ', acc)\n",
    "\n",
    "    # We can display the adversarial examples to highlight the added perturbation to the original sample.\n",
    "    x_test_adv_robust = np.moveaxis(x_test_adv_robust, [1], [3])\n",
    "    x_test = np.moveaxis(x_test, [1], [3])\n",
    "\n",
    "    delta = ((x_test[:num_samples] - x_test_adv_robust) + 8/255) * 10 # shift to have min 0 and make perturbations 10x larger to visualise them.\n",
    "\n",
    "    fig, axs = plt.subplots(3, 3)\n",
    "    for i in range(3):\n",
    "        axs[i, 0].imshow(x_test_adv_robust[i])\n",
    "        axs[i, 1].imshow(x_test[i])\n",
    "        axs[i, 2].imshow(delta[i])\n",
    "    plt.tight_layout()\n",
    "    del hf_model # clear memory of unneeded models"
   ]
  },
  {
   "cell_type": "code",
   "execution_count": 6,
   "id": "2f4625ff-103f-49d2-90f9-503f1ea43e84",
   "metadata": {},
   "outputs": [
    {
     "name": "stdout",
     "output_type": "stream",
     "text": [
      "Files already downloaded and verified\n",
      "Files already downloaded and verified\n"
     ]
    },
    {
     "name": "stderr",
     "output_type": "stream",
     "text": [
      "Some weights of ViTForImageClassification were not initialized from the model checkpoint at google/vit-base-patch16-224 and are newly initialized because the shapes did not match:\n",
      "- classifier.bias: found shape torch.Size([1000]) in the checkpoint and torch.Size([10]) in the model instantiated\n",
      "- classifier.weight: found shape torch.Size([1000, 768]) in the checkpoint and torch.Size([10, 768]) in the model instantiated\n",
      "You should probably TRAIN this model on a down-stream task to be able to use it for predictions and inference.\n"
     ]
    },
    {
     "name": "stdout",
     "output_type": "stream",
     "text": [
      "clean acc  0.98\n"
     ]
    },
    {
     "data": {
      "application/vnd.jupyter.widget-view+json": {
       "model_id": "",
       "version_major": 2,
       "version_minor": 0
      },
      "text/plain": [
       "PGD - Batches:   0%|          | 0/4 [00:00<?, ?it/s]"
      ]
     },
     "metadata": {},
     "output_type": "display_data"
    },
    {
     "name": "stderr",
     "output_type": "stream",
     "text": [
      "Clipping input data to the valid range for imshow with RGB data ([0..1] for floats or [0..255] for integers).\n",
      "Clipping input data to the valid range for imshow with RGB data ([0..1] for floats or [0..255] for integers).\n",
      "Clipping input data to the valid range for imshow with RGB data ([0..1] for floats or [0..255] for integers).\n"
     ]
    },
    {
     "name": "stdout",
     "output_type": "stream",
     "text": [
      "adv acc  0.01\n"
     ]
    },
    {
     "data": {
      "image/png": "[encoded data removed]",
      "text/plain": [
       "<Figure size 640x480 with 9 Axes>"
      ]
     },
     "metadata": {},
     "output_type": "display_data"
    }
   ],
   "source": [
    "test_pgd(architecture=model_to_examine, model_to_test='hf_base_model.pt')"
   ]
  },
  {
   "cell_type": "markdown",
   "id": "0bc9c9df",
   "metadata": {},
   "source": [
    "# Adversarial Training with ART\n",
    "\n",
    "Now, rather than using regular training, we employ robust PGD training and evaluate the robust model."
   ]
  },
  {
   "cell_type": "code",
   "execution_count": 7,
   "id": "fa81f918-e716-457d-a665-835542cf5d5e",
   "metadata": {},
   "outputs": [],
   "source": [
    "# We can see that we can attack the Huggingface transformer, so now let's use one of the defences in ART!\n",
    "\n",
    "def adversarial_train(model_to_examine):\n",
    "    from art.defences.trainer import AdversarialTrainerMadryPGD\n",
    "    (x_train, y_train), (x_test, y_test) = get_cifar_data()\n",
    "    model = transformers.AutoModelForImageClassification.from_pretrained(model_to_examine,\n",
    "                                                                         ignore_mismatched_sizes=True,\n",
    "                                                                         num_labels=10)\n",
    "\n",
    "    upsampler = torch.nn.Upsample(scale_factor=7, mode='nearest')\n",
    "\n",
    "    optimizer = Adam(model.parameters(), lr=1e-4)\n",
    "\n",
    "    hf_model = HuggingFaceClassifierPyTorch(model, \n",
    "                                            loss=torch.nn.CrossEntropyLoss(), \n",
    "                                            input_shape=(3, 32, 32),\n",
    "                                            nb_classes=10,\n",
    "                                            optimizer=optimizer,\n",
    "                                            clip_values=(0, 1),\n",
    "                                            processor=upsampler)\n",
    "\n",
    "    # We can now use adversarial training with Madry's protocol.\n",
    "    trainer = AdversarialTrainerMadryPGD(hf_model,\n",
    "                                         nb_epochs=10,\n",
    "                                         eps=8/255,\n",
    "                                         eps_step=1/255,\n",
    "                                         max_iter=10)\n",
    "\n",
    "    trainer.fit(x_train, y_train)\n",
    "    torch.save(trainer._classifier.model.state_dict(), 'hf_adv_model.pt')"
   ]
  },
  {
   "cell_type": "code",
   "execution_count": 8,
   "id": "76373745-f886-4f1f-9452-ec648753b04c",
   "metadata": {},
   "outputs": [],
   "source": [
    "# Uncomment the below to run the adverarial training, it can take some time depending on available hardware. \n",
    "# The expected runtime is around 15 hours using a Nvidia V100 GPU. More training could be conducted if better performance is desired.\n",
    "\n",
    "# adversarial_train(model_to_examine)"
   ]
  },
  {
   "cell_type": "code",
   "execution_count": 9,
   "id": "51c859e2-c18a-4598-999b-b7621772a2d4",
   "metadata": {},
   "outputs": [
    {
     "name": "stdout",
     "output_type": "stream",
     "text": [
      "Files already downloaded and verified\n",
      "Files already downloaded and verified\n"
     ]
    },
    {
     "name": "stderr",
     "output_type": "stream",
     "text": [
      "Some weights of ViTForImageClassification were not initialized from the model checkpoint at google/vit-base-patch16-224 and are newly initialized because the shapes did not match:\n",
      "- classifier.bias: found shape torch.Size([1000]) in the checkpoint and torch.Size([10]) in the model instantiated\n",
      "- classifier.weight: found shape torch.Size([1000, 768]) in the checkpoint and torch.Size([10, 768]) in the model instantiated\n",
      "You should probably TRAIN this model on a down-stream task to be able to use it for predictions and inference.\n"
     ]
    },
    {
     "name": "stdout",
     "output_type": "stream",
     "text": [
      "clean acc  0.88\n"
     ]
    },
    {
     "data": {
      "application/vnd.jupyter.widget-view+json": {
       "model_id": "",
       "version_major": 2,
       "version_minor": 0
      },
      "text/plain": [
       "PGD - Batches:   0%|          | 0/4 [00:00<?, ?it/s]"
      ]
     },
     "metadata": {},
     "output_type": "display_data"
    },
    {
     "name": "stderr",
     "output_type": "stream",
     "text": [
      "Clipping input data to the valid range for imshow with RGB data ([0..1] for floats or [0..255] for integers).\n",
      "Clipping input data to the valid range for imshow with RGB data ([0..1] for floats or [0..255] for integers).\n",
      "Clipping input data to the valid range for imshow with RGB data ([0..1] for floats or [0..255] for integers).\n"
     ]
    },
    {
     "name": "stdout",
     "output_type": "stream",
     "text": [
      "adv acc  0.43\n"
     ]
    },
    {
     "data": {
      "image/png": "[encoded data removed]",
      "text/plain": [
       "<Figure size 640x480 with 9 Axes>"
      ]
     },
     "metadata": {},
     "output_type": "display_data"
    }
   ],
   "source": [
    "# We now test the adversariallty trained model and we can see we have done from 0% robustness to 43%.\n",
    "test_pgd(architecture=model_to_examine, model_to_test='hf_adv_model.pt')"
   ]
  },
  {
   "cell_type": "code",
   "execution_count": 10,
   "id": "cfeead39-4b74-4b60-bd4b-a933fb7eebc0",
   "metadata": {},
   "outputs": [
    {
     "name": "stdout",
     "output_type": "stream",
     "text": [
      "Files already downloaded and verified\n",
      "Files already downloaded and verified\n"
     ]
    },
    {
     "name": "stderr",
     "output_type": "stream",
     "text": [
      "Some weights of SwinForImageClassification were not initialized from the model checkpoint at microsoft/swin-tiny-patch4-window7-224 and are newly initialized because the shapes did not match:\n",
      "- classifier.bias: found shape torch.Size([1000]) in the checkpoint and torch.Size([10]) in the model instantiated\n",
      "- classifier.weight: found shape torch.Size([1000, 768]) in the checkpoint and torch.Size([10, 768]) in the model instantiated\n",
      "You should probably TRAIN this model on a down-stream task to be able to use it for predictions and inference.\n"
     ]
    },
    {
     "data": {
      "application/vnd.jupyter.widget-view+json": {
       "model_id": "d1e1c1da709f43279594cebafaf48077",
       "version_major": 2,
       "version_minor": 0
      },
      "text/plain": [
       "Epochs:   0%|          | 0/2 [00:00<?, ?it/s]"
      ]
     },
     "metadata": {},
     "output_type": "display_data"
    },
    {
     "data": {
      "application/vnd.jupyter.widget-view+json": {
       "model_id": "ae2f70627dd74fc19aa21b66f060d248",
       "version_major": 2,
       "version_minor": 0
      },
      "text/plain": [
       "Batches:   0%|          | 0/391 [00:00<?, ?it/s]"
      ]
     },
     "metadata": {},
     "output_type": "display_data"
    },
    {
     "data": {
      "application/vnd.jupyter.widget-view+json": {
       "model_id": "9d7352985ba345549ecdccfb8645382b",
       "version_major": 2,
       "version_minor": 0
      },
      "text/plain": [
       "Batches:   0%|          | 0/391 [00:00<?, ?it/s]"
      ]
     },
     "metadata": {},
     "output_type": "display_data"
    }
   ],
   "source": [
    "# We can also try with different models, for example here we try the functions with a different architecture\n",
    "\n",
    "# ETA is around 25 min with a laptop CPU when using train_on_subset=True\n",
    "# this and the following cell can be skipped if the duration is too long.\n",
    "# train_on_subset=True\n",
    "\n",
    "hf_base_model = train_base_model(architecture='microsoft/swin-tiny-patch4-window7-224', \n",
    "                                 train_on_subset=train_on_subset)\n",
    "torch.save(hf_base_model.model.state_dict(), 'swin_tiny_base_model.pt')\n",
    "del hf_base_model"
   ]
  },
  {
   "cell_type": "code",
   "execution_count": 11,
   "id": "86b1f346-6c7e-4546-ae10-becbdd442b43",
   "metadata": {},
   "outputs": [
    {
     "name": "stdout",
     "output_type": "stream",
     "text": [
      "Files already downloaded and verified\n",
      "Files already downloaded and verified\n"
     ]
    },
    {
     "name": "stderr",
     "output_type": "stream",
     "text": [
      "Some weights of SwinForImageClassification were not initialized from the model checkpoint at microsoft/swin-tiny-patch4-window7-224 and are newly initialized because the shapes did not match:\n",
      "- classifier.bias: found shape torch.Size([1000]) in the checkpoint and torch.Size([10]) in the model instantiated\n",
      "- classifier.weight: found shape torch.Size([1000, 768]) in the checkpoint and torch.Size([10, 768]) in the model instantiated\n",
      "You should probably TRAIN this model on a down-stream task to be able to use it for predictions and inference.\n"
     ]
    },
    {
     "name": "stdout",
     "output_type": "stream",
     "text": [
      "clean acc  0.92\n"
     ]
    },
    {
     "data": {
      "application/vnd.jupyter.widget-view+json": {
       "model_id": "",
       "version_major": 2,
       "version_minor": 0
      },
      "text/plain": [
       "PGD - Batches:   0%|          | 0/4 [00:00<?, ?it/s]"
      ]
     },
     "metadata": {},
     "output_type": "display_data"
    },
    {
     "name": "stderr",
     "output_type": "stream",
     "text": [
      "Clipping input data to the valid range for imshow with RGB data ([0..1] for floats or [0..255] for integers).\n",
      "Clipping input data to the valid range for imshow with RGB data ([0..1] for floats or [0..255] for integers).\n",
      "Clipping input data to the valid range for imshow with RGB data ([0..1] for floats or [0..255] for integers).\n"
     ]
    },
    {
     "name": "stdout",
     "output_type": "stream",
     "text": [
      "adv acc  0.06\n"
     ]
    },
    {
     "data": {
      "image/png": "[encoded data removed]",
      "text/plain": [
       "<Figure size 640x480 with 9 Axes>"
      ]
     },
     "metadata": {},
     "output_type": "display_data"
    }
   ],
   "source": [
    "test_pgd(architecture='microsoft/swin-tiny-patch4-window7-224', \n",
    "         model_to_test='./swin_tiny_base_model.pt')"
   ]
  },
  {
   "cell_type": "markdown",
   "id": "7e9a80e5",
   "metadata": {},
   "source": [
    "# Training and Defending timm models\n",
    "\n",
    "PyTorch Image Models (timm) is a poular repository for SOTA implementations of image models and Huggingface \n",
    "is hosting many of the models and weights. \n",
    "\n",
    "We can use timm models here with the same wrapper. \n",
    "\n",
    "To run this part of the notebook we need to install the timm library\n",
    "\n",
    "`pip install timm`\n",
    "\n",
    "This notebook was ran with timm==0.9.8"
   ]
  },
  {
   "cell_type": "code",
   "execution_count": 12,
   "id": "4d6ccae2-4f26-402f-be21-bc3003f5a59a",
   "metadata": {},
   "outputs": [],
   "source": [
    "# We can also try different architectures, \n",
    "# for example one of the most popular models on Huggingface is the resnet-50\n",
    "def train_using_timm_model(train_on_subset, model_type):\n",
    "    import timm\n",
    "    \n",
    "    model = timm.create_model(model_type, pretrained=True)\n",
    "    model = model.to(device)\n",
    "    upsampler = torch.nn.Upsample(scale_factor=7, mode='nearest')\n",
    "    \n",
    "    optimizer = Adam(model.parameters(), lr=1e-3)\n",
    "    \n",
    "    hf_model = HuggingFaceClassifierPyTorch(model, \n",
    "                                            loss=torch.nn.CrossEntropyLoss(), \n",
    "                                            input_shape=(3, 32, 32),\n",
    "                                            nb_classes=10,\n",
    "                                            optimizer=optimizer,\n",
    "                                            clip_values=(0, 1),\n",
    "                                            processor=upsampler)\n",
    "    (x_train, y_train), (x_test, y_test) = get_cifar_data(train_on_subset)\n",
    "    hf_model.fit(x_train, y_train, nb_epochs=2, verbose=True)\n",
    "\n",
    "    return hf_model"
   ]
  },
  {
   "cell_type": "code",
   "execution_count": 13,
   "id": "6584e1db-bc18-453d-9c8b-a313d1c9267e",
   "metadata": {},
   "outputs": [
    {
     "name": "stdout",
     "output_type": "stream",
     "text": [
      "Files already downloaded and verified\n",
      "Files already downloaded and verified\n"
     ]
    },
    {
     "data": {
      "application/vnd.jupyter.widget-view+json": {
       "model_id": "eceb751607a642da8c06b35bb2ea1aba",
       "version_major": 2,
       "version_minor": 0
      },
      "text/plain": [
       "Epochs:   0%|          | 0/2 [00:00<?, ?it/s]"
      ]
     },
     "metadata": {},
     "output_type": "display_data"
    },
    {
     "data": {
      "application/vnd.jupyter.widget-view+json": {
       "model_id": "a2913e0abb004bbd98852fea8eb8018b",
       "version_major": 2,
       "version_minor": 0
      },
      "text/plain": [
       "Batches:   0%|          | 0/391 [00:00<?, ?it/s]"
      ]
     },
     "metadata": {},
     "output_type": "display_data"
    },
    {
     "data": {
      "application/vnd.jupyter.widget-view+json": {
       "model_id": "c8a3111477114196aaa2c250bb3dd9a3",
       "version_major": 2,
       "version_minor": 0
      },
      "text/plain": [
       "Batches:   0%|          | 0/391 [00:00<?, ?it/s]"
      ]
     },
     "metadata": {},
     "output_type": "display_data"
    }
   ],
   "source": [
    "train_on_subset=False\n",
    "model_type='resnet50.a1_in1k'\n",
    "\n",
    "# Toggle subset training for quicker results, although model performance is significantly lower.\n",
    "# ETA is around 10 min when training on a laptop CPU\n",
    "# train_on_subset=True\n",
    "# model_type='timm/resnet18.a1_in1k'\n",
    "\n",
    "hf_timm_model = train_using_timm_model(train_on_subset, model_type)\n",
    "torch.save(hf_timm_model.model.state_dict(), 'timm_resnet.pt')\n",
    "del hf_timm_model"
   ]
  },
  {
   "cell_type": "code",
   "execution_count": 14,
   "id": "dff3de85-965a-45fe-9870-7858e6527d2d",
   "metadata": {},
   "outputs": [],
   "source": [
    "def adversarial_train_timm(model_type):\n",
    "    from art.defences.trainer import AdversarialTrainerMadryPGD\n",
    "    import timm\n",
    "    (x_train, y_train), (x_test, y_test) = get_cifar_data()\n",
    "\n",
    "    model = timm.create_model(model_type, pretrained=True)\n",
    "\n",
    "    upsampler = torch.nn.Upsample(scale_factor=7, mode='nearest')\n",
    "\n",
    "    optimizer = Adam(model.parameters(), lr=1e-4)\n",
    "\n",
    "    hf_model = HuggingFaceClassifierPyTorch(model, \n",
    "                                            loss=torch.nn.CrossEntropyLoss(), \n",
    "                                            input_shape=(3, 32, 32),\n",
    "                                            nb_classes=10,\n",
    "                                            optimizer=optimizer,\n",
    "                                            clip_values=(0, 1),\n",
    "                                            processor=upsampler)\n",
    "\n",
    "    # We can now use adversarial training with Madry's protocol.\n",
    "    trainer = AdversarialTrainerMadryPGD(hf_model,\n",
    "                                         nb_epochs=10,\n",
    "                                         eps=8/255,\n",
    "                                         eps_step=1/255,\n",
    "                                         max_iter=10)\n",
    "\n",
    "    trainer.fit(x_train, y_train)\n",
    "    torch.save(trainer._classifier.model.state_dict(), 'timm_resnet_adv_model.pt')"
   ]
  },
  {
   "cell_type": "code",
   "execution_count": 15,
   "id": "122ba410-7352-494b-8029-c747e5378855",
   "metadata": {},
   "outputs": [],
   "source": [
    "# Uncomment the below to run the adverarial training, it can take some time depending on available hardware. \n",
    "# The expected runtime is around 10 hours using a Nvidia V100 GPU. More training could be conducted if better performance is desired.\n",
    "\n",
    "# adversarial_train_timm(model_type=model_type)"
   ]
  },
  {
   "cell_type": "code",
   "execution_count": 16,
   "id": "b8a93fba-3d05-4316-91e6-de54869c22fe",
   "metadata": {},
   "outputs": [],
   "source": [
    "def test_on_pgd_timm(model_to_load, model_type):\n",
    "    from art.attacks.evasion import ProjectedGradientDescentPyTorch\n",
    "    import timm\n",
    "\n",
    "    (x_train, y_train), (x_test, y_test) = get_cifar_data()\n",
    "    \n",
    "    model = timm.create_model(model_type, pretrained=True)\n",
    "\n",
    "    model.load_state_dict(torch.load(model_to_load, map_location=torch.device(device)))\n",
    "    loss_fn = torch.nn.CrossEntropyLoss()\n",
    "    from torch.optim import Adam\n",
    "    optimizer = Adam(model.parameters(), lr=1e-4)\n",
    "    hf_model = HuggingFaceClassifierPyTorch(model, \n",
    "                                            loss=torch.nn.CrossEntropyLoss(),\n",
    "                                            optimizer=optimizer,\n",
    "                                            input_shape=(3, 32, 32),\n",
    "                                            nb_classes=10,\n",
    "                                            clip_values=(0, 1),\n",
    "                                            processor=torch.nn.Upsample(scale_factor=7, mode='nearest'))\n",
    "\n",
    "    outputs = hf_model.predict(x_test[:100])\n",
    "    acc = np.sum(np.argmax(outputs, axis=1) == y_test[:100]) / len(y_test[:100])\n",
    "    print('clean acc ', acc)\n",
    "\n",
    "    attacker = ProjectedGradientDescentPyTorch(hf_model, eps=8/255, eps_step=1/255)\n",
    "    x_test_adv_robust = attacker.generate(x_test[:100])\n",
    "    outputs = hf_model.predict(x_test_adv_robust)\n",
    "    acc = np.sum(np.argmax(outputs, axis=1) == y_test[:100]) / len(y_test[:100])\n",
    "    print('adv acc ', acc)"
   ]
  },
  {
   "cell_type": "code",
   "execution_count": 17,
   "id": "1ad911ba",
   "metadata": {},
   "outputs": [
    {
     "name": "stdout",
     "output_type": "stream",
     "text": [
      "Files already downloaded and verified\n",
      "Files already downloaded and verified\n",
      "clean acc  0.89\n"
     ]
    },
    {
     "data": {
      "application/vnd.jupyter.widget-view+json": {
       "model_id": "",
       "version_major": 2,
       "version_minor": 0
      },
      "text/plain": [
       "PGD - Batches:   0%|          | 0/4 [00:00<?, ?it/s]"
      ]
     },
     "metadata": {},
     "output_type": "display_data"
    },
    {
     "name": "stdout",
     "output_type": "stream",
     "text": [
      "adv acc  0.08\n"
     ]
    }
   ],
   "source": [
    "test_on_pgd_timm(model_to_load='timm_resnet.pt', model_type=model_type)"
   ]
  },
  {
   "cell_type": "code",
   "execution_count": 18,
   "id": "9fee39b0-5be1-4bb1-978d-b982f0642881",
   "metadata": {},
   "outputs": [
    {
     "name": "stdout",
     "output_type": "stream",
     "text": [
      "Files already downloaded and verified\n",
      "Files already downloaded and verified\n",
      "clean acc  0.7\n"
     ]
    },
    {
     "data": {
      "application/vnd.jupyter.widget-view+json": {
       "model_id": "",
       "version_major": 2,
       "version_minor": 0
      },
      "text/plain": [
       "PGD - Batches:   0%|          | 0/4 [00:00<?, ?it/s]"
      ]
     },
     "metadata": {},
     "output_type": "display_data"
    },
    {
     "name": "stdout",
     "output_type": "stream",
     "text": [
      "adv acc  0.47\n"
     ]
    }
   ],
   "source": [
    "test_on_pgd_timm(model_to_load='timm_resnet_adv_model.pt', model_type=model_type)"
   ]
  },
  {
   "cell_type": "code",
   "execution_count": 19,
   "id": "5d29b5ab-7f5b-4136-903e-fc0442c4f15b",
   "metadata": {},
   "outputs": [],
   "source": [
    "# We can also use the interface so supply custom Huggingface models. \n",
    "# Here is a simple example for running a toy neural network classifier.\n",
    "\n",
    "import torch\n",
    "from transformers.modeling_utils import PreTrainedModel\n",
    "from transformers.configuration_utils import PretrainedConfig\n",
    "from transformers.modeling_outputs import ImageClassifierOutput\n",
    "from art.estimators.classification.hugging_face import HuggingFaceClassifierPyTorch\n",
    "\n",
    "class ModelConfig(PretrainedConfig):\n",
    "    def __init__(\n",
    "            self,\n",
    "            **kwargs,\n",
    "    ):\n",
    "        super().__init__(**kwargs)\n",
    "        self.device = torch.device(\"cuda:0\" if torch.cuda.is_available() else \"cpu\")\n",
    "\n",
    "class Model(PreTrainedModel):\n",
    "\n",
    "    def __init__(self, config):\n",
    "        super().__init__(config)\n",
    "\n",
    "        self.conv = torch.nn.Conv2d(in_channels=3, out_channels=32, kernel_size=3)\n",
    "        self.conv2 = torch.nn.Conv2d(in_channels=32, out_channels=32, kernel_size=3)\n",
    "        self.relu = torch.nn.ReLU()\n",
    "        self.pool = torch.nn.MaxPool2d(2, 2)\n",
    "        self.fullyconnected = torch.nn.Linear(6272, 10)\n",
    "\n",
    "    def forward(self, x):\n",
    "        \"\"\"\n",
    "        Forward function to evaluate the model\n",
    "        :param x: Input to the model\n",
    "        :return: Prediction of the model\n",
    "        \"\"\"\n",
    "        x = self.relu(self.conv(x))\n",
    "        x = self.relu(self.conv2(x))\n",
    "        x = self.pool(x)\n",
    "        x = x.reshape(-1, 6272)\n",
    "        x = self.fullyconnected(x)\n",
    "        return ImageClassifierOutput(logits=x)\n",
    "\n",
    "def train_simple_custom__model():\n",
    "    config = ModelConfig()\n",
    "    pt_model = Model(config=config)\n",
    "\n",
    "    optimizer = torch.optim.Adam(pt_model.parameters(), lr=1e-3)\n",
    "    \n",
    "    simple_hf_classifier = HuggingFaceClassifierPyTorch(pt_model,\n",
    "                                                         loss=torch.nn.CrossEntropyLoss(),\n",
    "                                                         optimizer=optimizer,\n",
    "                                                         input_shape=(3, 32, 32),\n",
    "                                                         nb_classes=10,\n",
    "                                                         clip_values=(0, 1),\n",
    "                                                         processor=None) # No processor is needed as the data is of the correct size for the model.\n",
    "    \n",
    "    (x_train, y_train), (x_test, y_test) = get_cifar_data()\n",
    "    simple_hf_classifier.fit(x_train, y_train, nb_epochs=20, verbose=True)\n",
    "\n",
    "    num_samples = 100\n",
    "    outputs = simple_hf_classifier.predict(x_test[:num_samples])\n",
    "    acc = np.sum(np.argmax(outputs, axis=1) == y_test[:num_samples]) / len(y_test[:num_samples])\n",
    "    print('clean acc ', acc)\n"
   ]
  },
  {
   "cell_type": "code",
   "execution_count": 20,
   "id": "319fc9fd-4c3d-425d-ae48-948e9989b3fd",
   "metadata": {},
   "outputs": [
    {
     "name": "stdout",
     "output_type": "stream",
     "text": [
      "Files already downloaded and verified\n",
      "Files already downloaded and verified\n"
     ]
    },
    {
     "data": {
      "application/vnd.jupyter.widget-view+json": {
       "model_id": "e9cd7fefb0544a7394e7404b7fff23a6",
       "version_major": 2,
       "version_minor": 0
      },
      "text/plain": [
       "Epochs:   0%|          | 0/20 [00:00<?, ?it/s]"
      ]
     },
     "metadata": {},
     "output_type": "display_data"
    },
    {
     "data": {
      "application/vnd.jupyter.widget-view+json": {
       "model_id": "26da538555a44f3f98278f7b3631b95f",
       "version_major": 2,
       "version_minor": 0
      },
      "text/plain": [
       "Batches:   0%|          | 0/391 [00:00<?, ?it/s]"
      ]
     },
     "metadata": {},
     "output_type": "display_data"
    },
    {
     "data": {
      "application/vnd.jupyter.widget-view+json": {
       "model_id": "9c7169c70d234c63b055fd7e89d22332",
       "version_major": 2,
       "version_minor": 0
      },
      "text/plain": [
       "Batches:   0%|          | 0/391 [00:00<?, ?it/s]"
      ]
     },
     "metadata": {},
     "output_type": "display_data"
    },
    {
     "data": {
      "application/vnd.jupyter.widget-view+json": {
       "model_id": "3eb82b912a944a36b165b3646a56c8fa",
       "version_major": 2,
       "version_minor": 0
      },
      "text/plain": [
       "Batches:   0%|          | 0/391 [00:00<?, ?it/s]"
      ]
     },
     "metadata": {},
     "output_type": "display_data"
    },
    {
     "data": {
      "application/vnd.jupyter.widget-view+json": {
       "model_id": "d4e3d3f9d5ed478aafc0218758a12512",
       "version_major": 2,
       "version_minor": 0
      },
      "text/plain": [
       "Batches:   0%|          | 0/391 [00:00<?, ?it/s]"
      ]
     },
     "metadata": {},
     "output_type": "display_data"
    },
    {
     "data": {
      "application/vnd.jupyter.widget-view+json": {
       "model_id": "eefe0cc5d4ea4e23ae7c258ea09b3528",
       "version_major": 2,
       "version_minor": 0
      },
      "text/plain": [
       "Batches:   0%|          | 0/391 [00:00<?, ?it/s]"
      ]
     },
     "metadata": {},
     "output_type": "display_data"
    },
    {
     "data": {
      "application/vnd.jupyter.widget-view+json": {
       "model_id": "0f0c92eb65f349f08abeb0779079538f",
       "version_major": 2,
       "version_minor": 0
      },
      "text/plain": [
       "Batches:   0%|          | 0/391 [00:00<?, ?it/s]"
      ]
     },
     "metadata": {},
     "output_type": "display_data"
    },
    {
     "data": {
      "application/vnd.jupyter.widget-view+json": {
       "model_id": "9c5e8ea8a0cd4264ad0a155730075045",
       "version_major": 2,
       "version_minor": 0
      },
      "text/plain": [
       "Batches:   0%|          | 0/391 [00:00<?, ?it/s]"
      ]
     },
     "metadata": {},
     "output_type": "display_data"
    },
    {
     "data": {
      "application/vnd.jupyter.widget-view+json": {
       "model_id": "803c451ddced480886dda15f486e7205",
       "version_major": 2,
       "version_minor": 0
      },
      "text/plain": [
       "Batches:   0%|          | 0/391 [00:00<?, ?it/s]"
      ]
     },
     "metadata": {},
     "output_type": "display_data"
    },
    {
     "data": {
      "application/vnd.jupyter.widget-view+json": {
       "model_id": "b16e12603ce54da0ad984997a5635737",
       "version_major": 2,
       "version_minor": 0
      },
      "text/plain": [
       "Batches:   0%|          | 0/391 [00:00<?, ?it/s]"
      ]
     },
     "metadata": {},
     "output_type": "display_data"
    },
    {
     "data": {
      "application/vnd.jupyter.widget-view+json": {
       "model_id": "a7f87440e5204393b50915de5e1b6116",
       "version_major": 2,
       "version_minor": 0
      },
      "text/plain": [
       "Batches:   0%|          | 0/391 [00:00<?, ?it/s]"
      ]
     },
     "metadata": {},
     "output_type": "display_data"
    },
    {
     "data": {
      "application/vnd.jupyter.widget-view+json": {
       "model_id": "aa4b8c26a26544d2b910b80995fe4240",
       "version_major": 2,
       "version_minor": 0
      },
      "text/plain": [
       "Batches:   0%|          | 0/391 [00:00<?, ?it/s]"
      ]
     },
     "metadata": {},
     "output_type": "display_data"
    },
    {
     "data": {
      "application/vnd.jupyter.widget-view+json": {
       "model_id": "169ebc1c2ca345d99cc851a736f567c1",
       "version_major": 2,
       "version_minor": 0
      },
      "text/plain": [
       "Batches:   0%|          | 0/391 [00:00<?, ?it/s]"
      ]
     },
     "metadata": {},
     "output_type": "display_data"
    },
    {
     "data": {
      "application/vnd.jupyter.widget-view+json": {
       "model_id": "42d7ce435b2d4c6097c41731f5041554",
       "version_major": 2,
       "version_minor": 0
      },
      "text/plain": [
       "Batches:   0%|          | 0/391 [00:00<?, ?it/s]"
      ]
     },
     "metadata": {},
     "output_type": "display_data"
    },
    {
     "data": {
      "application/vnd.jupyter.widget-view+json": {
       "model_id": "f0244f36054a431893eaa7d41a0719c1",
       "version_major": 2,
       "version_minor": 0
      },
      "text/plain": [
       "Batches:   0%|          | 0/391 [00:00<?, ?it/s]"
      ]
     },
     "metadata": {},
     "output_type": "display_data"
    },
    {
     "data": {
      "application/vnd.jupyter.widget-view+json": {
       "model_id": "690c7a88f1294b298e8886a3fc2e84f7",
       "version_major": 2,
       "version_minor": 0
      },
      "text/plain": [
       "Batches:   0%|          | 0/391 [00:00<?, ?it/s]"
      ]
     },
     "metadata": {},
     "output_type": "display_data"
    },
    {
     "data": {
      "application/vnd.jupyter.widget-view+json": {
       "model_id": "467e72f23dae4b70a58971e81e84985d",
       "version_major": 2,
       "version_minor": 0
      },
      "text/plain": [
       "Batches:   0%|          | 0/391 [00:00<?, ?it/s]"
      ]
     },
     "metadata": {},
     "output_type": "display_data"
    },
    {
     "data": {
      "application/vnd.jupyter.widget-view+json": {
       "model_id": "cd1b2016f4a34fbb8d185aa2d05b42d7",
       "version_major": 2,
       "version_minor": 0
      },
      "text/plain": [
       "Batches:   0%|          | 0/391 [00:00<?, ?it/s]"
      ]
     },
     "metadata": {},
     "output_type": "display_data"
    },
    {
     "data": {
      "application/vnd.jupyter.widget-view+json": {
       "model_id": "3977c6e1041a44e08e07083bf80a9e46",
       "version_major": 2,
       "version_minor": 0
      },
      "text/plain": [
       "Batches:   0%|          | 0/391 [00:00<?, ?it/s]"
      ]
     },
     "metadata": {},
     "output_type": "display_data"
    },
    {
     "data": {
      "application/vnd.jupyter.widget-view+json": {
       "model_id": "1891414915ec4f8e8d02db6f1f035c53",
       "version_major": 2,
       "version_minor": 0
      },
      "text/plain": [
       "Batches:   0%|          | 0/391 [00:00<?, ?it/s]"
      ]
     },
     "metadata": {},
     "output_type": "display_data"
    },
    {
     "data": {
      "application/vnd.jupyter.widget-view+json": {
       "model_id": "4f2d85672d0d4c2b9ac13ebe7c1b5879",
       "version_major": 2,
       "version_minor": 0
      },
      "text/plain": [
       "Batches:   0%|          | 0/391 [00:00<?, ?it/s]"
      ]
     },
     "metadata": {},
     "output_type": "display_data"
    },
    {
     "name": "stdout",
     "output_type": "stream",
     "text": [
      "clean acc  0.72\n"
     ]
    }
   ],
   "source": [
    "train_simple_custom__model()"
   ]
  },
  {
   "cell_type": "code",
   "execution_count": null,
   "id": "184d9764-bd6a-4d53-a0b5-4ebf05b00b9a",
   "metadata": {},
   "outputs": [],
   "source": []
  }
 ],
 "metadata": {
  "kernelspec": {
   "display_name": "Python 3 (ipykernel)",
   "language": "python",
   "name": "python3"
  },
  "language_info": {
   "codemirror_mode": {
    "name": "ipython",
    "version": 3
   },
   "file_extension": ".py",
   "mimetype": "text/x-python",
   "name": "python",
   "nbconvert_exporter": "python",
   "pygments_lexer": "ipython3",
   "version": "3.8.10"
  }
 },
 "nbformat": 4,
 "nbformat_minor": 5
}
